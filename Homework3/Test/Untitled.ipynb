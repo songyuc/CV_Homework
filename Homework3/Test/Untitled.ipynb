{
 "cells": [
  {
   "cell_type": "code",
   "execution_count": 2,
   "metadata": {},
   "outputs": [],
   "source": [
    "import numpy as np\n",
    "\n",
    "a = np.arange(10) "
   ]
  },
  {
   "cell_type": "code",
   "execution_count": 44,
   "metadata": {},
   "outputs": [],
   "source": [
    "# 使用NumPy直接生成随机数组\n",
    "x_list = np.random.rand(100)\n",
    "y_list = np.zeros_like(x_list)\n",
    "y_list[x_list>0.5] = 1 "
   ]
  },
  {
   "cell_type": "code",
   "execution_count": 45,
   "metadata": {},
   "outputs": [
    {
     "data": {
      "text/plain": [
       "array([1., 0., 0., 0., 0., 0., 1., 1., 0., 0., 0., 0., 0., 1., 0., 0., 0.,\n",
       "       1., 1., 1., 1., 0., 1., 0., 1., 0., 1., 0., 1., 0., 1., 0., 1., 1.,\n",
       "       1., 1., 0., 0., 1., 0., 0., 1., 1., 0., 0., 0., 0., 0., 0., 1., 0.,\n",
       "       1., 0., 1., 1., 0., 1., 1., 0., 1., 1., 0., 1., 1., 1., 1., 1., 0.,\n",
       "       1., 0., 1., 0., 0., 1., 0., 0., 0., 0., 0., 1., 0., 0., 0., 0., 1.,\n",
       "       1., 1., 1., 0., 1., 1., 1., 1., 0., 1., 1., 0., 1., 1., 0.])"
      ]
     },
     "execution_count": 45,
     "metadata": {},
     "output_type": "execute_result"
    }
   ],
   "source": [
    "y_list"
   ]
  },
  {
   "cell_type": "code",
   "execution_count": 46,
   "metadata": {},
   "outputs": [
    {
     "data": {
      "text/plain": [
       "array([9.22839300e-01, 3.05111475e-01, 2.64021165e-02, 4.26742643e-01,\n",
       "       1.47998560e-02, 4.38574699e-01, 9.99836652e-01, 7.90488534e-01,\n",
       "       4.11479465e-02, 1.44707949e-01, 2.49496676e-02, 8.74402281e-02,\n",
       "       4.35881031e-01, 9.64176423e-01, 3.87606797e-01, 1.92949031e-01,\n",
       "       2.39501404e-01, 8.70938921e-01, 6.75376913e-01, 5.71200891e-01,\n",
       "       6.02583804e-01, 5.27097777e-02, 5.82523666e-01, 3.64197270e-01,\n",
       "       7.79387612e-01, 4.11044750e-01, 9.70804221e-01, 4.42042148e-04,\n",
       "       5.23321530e-01, 3.60759800e-01, 6.36127520e-01, 2.36773557e-01,\n",
       "       5.65885898e-01, 6.87604816e-01, 8.45694222e-01, 9.10767022e-01,\n",
       "       4.43544843e-01, 4.74093925e-01, 8.16597865e-01, 4.17553871e-01,\n",
       "       4.07873032e-01, 5.95651898e-01, 7.37807477e-01, 4.57687791e-01,\n",
       "       3.08071032e-01, 1.82304700e-01, 3.41386008e-01, 4.53631855e-01,\n",
       "       4.19586333e-01, 7.39990240e-01, 4.40901826e-02, 6.81207364e-01,\n",
       "       1.02351863e-01, 9.35383438e-01, 6.60740857e-01, 3.47164243e-01,\n",
       "       5.22505567e-01, 9.40766287e-01, 1.56733463e-01, 9.19672476e-01,\n",
       "       9.46669472e-01, 3.70525600e-01, 9.16104258e-01, 5.88191760e-01,\n",
       "       9.49446796e-01, 5.73839487e-01, 6.30621202e-01, 1.85959615e-01,\n",
       "       9.37994978e-01, 4.55992575e-01, 7.15689366e-01, 4.79948056e-01,\n",
       "       4.42428006e-01, 8.04963466e-01, 1.01379319e-01, 2.14996645e-01,\n",
       "       2.72861984e-01, 1.66448306e-01, 2.57292081e-01, 9.14279217e-01,\n",
       "       3.67836687e-02, 4.53400796e-01, 1.54670438e-01, 2.28135348e-01,\n",
       "       5.37244821e-01, 5.04135083e-01, 7.06305492e-01, 8.61272687e-01,\n",
       "       3.77725440e-01, 5.23877202e-01, 7.19015528e-01, 5.70110722e-01,\n",
       "       7.63802931e-01, 1.88074375e-01, 6.07310190e-01, 7.33631662e-01,\n",
       "       3.48464861e-01, 9.71127575e-01, 7.50133622e-01, 1.65189128e-01])"
      ]
     },
     "execution_count": 46,
     "metadata": {},
     "output_type": "execute_result"
    }
   ],
   "source": [
    "x_list"
   ]
  },
  {
   "cell_type": "code",
   "execution_count": 7,
   "metadata": {},
   "outputs": [
    {
     "ename": "ValueError",
     "evalue": "The truth value of an array with more than one element is ambiguous. Use a.any() or a.all()",
     "output_type": "error",
     "traceback": [
      "\u001b[1;31m---------------------------------------------------------------------------\u001b[0m",
      "\u001b[1;31mValueError\u001b[0m                                Traceback (most recent call last)",
      "\u001b[1;32m<ipython-input-7-586d694bb166>\u001b[0m in \u001b[0;36m<module>\u001b[1;34m\u001b[0m\n\u001b[1;32m----> 1\u001b[1;33m \u001b[0mb\u001b[0m \u001b[1;33m=\u001b[0m \u001b[1;36m1\u001b[0m \u001b[1;32mif\u001b[0m \u001b[0ma\u001b[0m\u001b[1;33m>\u001b[0m\u001b[1;36m5\u001b[0m  \u001b[1;32melse\u001b[0m \u001b[1;36m0\u001b[0m\u001b[1;33m\u001b[0m\u001b[1;33m\u001b[0m\u001b[0m\n\u001b[0m",
      "\u001b[1;31mValueError\u001b[0m: The truth value of an array with more than one element is ambiguous. Use a.any() or a.all()"
     ]
    }
   ],
   "source": [
    "b = 1 if a>5  else 0"
   ]
  },
  {
   "cell_type": "code",
   "execution_count": null,
   "metadata": {},
   "outputs": [],
   "source": []
  }
 ],
 "metadata": {
  "kernelspec": {
   "display_name": "Python 3",
   "language": "python",
   "name": "python3"
  },
  "language_info": {
   "codemirror_mode": {
    "name": "ipython",
    "version": 3
   },
   "file_extension": ".py",
   "mimetype": "text/x-python",
   "name": "python",
   "nbconvert_exporter": "python",
   "pygments_lexer": "ipython3",
   "version": "3.7.3"
  }
 },
 "nbformat": 4,
 "nbformat_minor": 2
}
